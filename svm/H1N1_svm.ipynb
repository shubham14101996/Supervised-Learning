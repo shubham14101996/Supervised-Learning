{
 "cells": [
  {
   "cell_type": "code",
   "execution_count": 2,
   "metadata": {},
   "outputs": [],
   "source": [
    "import pandas as pd\n",
    "h1n1 = pd.read_csv('h1n1_vaccine_prediction.csv')\n",
    "h1n1.select_dtypes(include = 'object').head(5)\n",
    "h1n1.qualification.value_counts()\n",
    "h1n1.income_level.value_counts()\n",
    "h1n1.age_bracket.value_counts()\n",
    "h1n1.isnull().sum()\n",
    "h1n1.housing_status = h1n1.housing_status.fillna('Own')        \n",
    "h1n1.select_dtypes(include='object').columns\n",
    "\n",
    "\n",
    "h1n1.h1n1_worry= h1n1.h1n1_worry.fillna(h1n1.h1n1_worry.mean())\n",
    "h1n1.h1n1_awareness= h1n1.h1n1_awareness.fillna(h1n1.h1n1_awareness.mean())\n",
    "h1n1.antiviral_medication= h1n1.antiviral_medication.fillna(h1n1.antiviral_medication.mean())\n",
    "h1n1.contact_avoidance= h1n1.contact_avoidance.fillna(h1n1.contact_avoidance.mean())\n",
    "h1n1.dr_recc_h1n1_vacc = h1n1.dr_recc_h1n1_vacc .fillna(h1n1.dr_recc_h1n1_vacc .mean())\n",
    "h1n1.dr_recc_seasonal_vacc   = h1n1.dr_recc_seasonal_vacc   .fillna(h1n1.dr_recc_seasonal_vacc   .mean())\n",
    "h1n1.chronic_medic_condition = h1n1.chronic_medic_condition.fillna(h1n1.chronic_medic_condition           .mean())\n",
    "h1n1.dr_recc_h1n1_vacc = h1n1.dr_recc_h1n1_vacc .fillna(h1n1.dr_recc_h1n1_vacc .mean())\n",
    "h1n1.cont_child_undr_6_mnths = h1n1.cont_child_undr_6_mnths .fillna(h1n1.cont_child_undr_6_mnths .mean())\n",
    "h1n1.is_health_worker = h1n1.is_health_worker .fillna(h1n1.is_health_worker .mean())\n",
    "h1n1.is_seas_risky = h1n1.is_seas_risky .fillna(h1n1.is_seas_risky .mean())\n",
    "h1n1.is_seas_vacc_effective = h1n1.is_seas_vacc_effective .fillna(h1n1.is_seas_vacc_effective .mean())\n",
    "h1n1.sick_from_seas_vacc = h1n1.sick_from_seas_vacc .fillna(h1n1.sick_from_seas_vacc .mean())\n",
    "h1n1.no_of_adults = h1n1.no_of_adults .fillna(h1n1.no_of_adults .mean())\n",
    "h1n1.no_of_children = h1n1.no_of_children .fillna(h1n1.no_of_children .mean())\n",
    "h1n1.sick_from_h1n1_vacc= h1n1.sick_from_h1n1_vacc.fillna(h1n1.sick_from_h1n1_vacc.mean())\n",
    "h1n1.is_h1n1_vacc_effective= h1n1.is_h1n1_vacc_effective.fillna(h1n1.is_h1n1_vacc_effective.mean())\n",
    "h1n1.is_h1n1_risky= h1n1.is_h1n1_risky.fillna(h1n1.is_h1n1_risky.mean())\n",
    "h1n1.avoid_touch_face= h1n1.avoid_touch_face.fillna(h1n1.avoid_touch_face.mean())\n",
    "h1n1.avoid_large_gatherings= h1n1.avoid_large_gatherings.fillna(h1n1.avoid_large_gatherings.mean())\n",
    "h1n1.reduced_outside_home_cont= h1n1.reduced_outside_home_cont.fillna(h1n1.reduced_outside_home_cont.mean())\n",
    "h1n1.wash_hands_frequently= h1n1.wash_hands_frequently.fillna(h1n1.wash_hands_frequently.mean())\n",
    "h1n1.bought_face_mask= h1n1.bought_face_mask.fillna(h1n1.bought_face_mask.mean())\n",
    "\n",
    "\n",
    "\n",
    "h1n1.employment=h1n1.employment.fillna('Employed')\n",
    "h1n1.marital_status=h1n1.marital_status.fillna('Married')\n",
    "h1n1.qualification=h1n1.qualification.fillna('College Graduate')\n",
    "h1n1.income_level=h1n1.income_level.fillna('<= $75,000, Above Poverty')\n",
    "\n",
    "\n",
    "h1n1 = h1n1.drop(['has_health_insur'], axis =1)\n",
    "\n",
    "from sklearn.preprocessing import LabelEncoder\n",
    "le = LabelEncoder()\n",
    "h1n1[h1n1.select_dtypes(include=['object']).columns] = h1n1[h1n1.select_dtypes(include='object').columns].apply(le.fit_transform)"
   ]
  },
  {
   "cell_type": "code",
   "execution_count": 3,
   "metadata": {},
   "outputs": [],
   "source": [
    "from sklearn.model_selection import train_test_split\n",
    "h1n1_train, h1n1_test = train_test_split(h1n1, test_size = 0.2, random_state = 100)"
   ]
  },
  {
   "cell_type": "code",
   "execution_count": 4,
   "metadata": {},
   "outputs": [],
   "source": [
    "h1n1_train_x = h1n1_train.iloc[:,0:-1]\n",
    "h1n1_train_y = h1n1_train.iloc[:,-1]"
   ]
  },
  {
   "cell_type": "code",
   "execution_count": 5,
   "metadata": {},
   "outputs": [],
   "source": [
    "h1n1_test_x = h1n1_test.iloc[:,0:-1]\n",
    "h1n1_test_y = h1n1_test.iloc[:,-1]"
   ]
  },
  {
   "cell_type": "code",
   "execution_count": 6,
   "metadata": {},
   "outputs": [],
   "source": [
    "from sklearn.svm import SVC"
   ]
  },
  {
   "cell_type": "code",
   "execution_count": 8,
   "metadata": {},
   "outputs": [],
   "source": [
    "svc = SVC()"
   ]
  },
  {
   "cell_type": "code",
   "execution_count": 9,
   "metadata": {},
   "outputs": [
    {
     "data": {
      "text/plain": [
       "SVC()"
      ]
     },
     "execution_count": 9,
     "metadata": {},
     "output_type": "execute_result"
    }
   ],
   "source": [
    "svc.fit(h1n1_train_x, h1n1_train_y)"
   ]
  },
  {
   "cell_type": "code",
   "execution_count": 10,
   "metadata": {},
   "outputs": [],
   "source": [
    "pred_svc = svc.predict(h1n1_test_x)"
   ]
  },
  {
   "cell_type": "code",
   "execution_count": 11,
   "metadata": {},
   "outputs": [],
   "source": [
    "from sklearn.metrics import confusion_matrix\n",
    "tab = confusion_matrix(pred_svc, h1n1_test_y)"
   ]
  },
  {
   "cell_type": "code",
   "execution_count": 12,
   "metadata": {},
   "outputs": [
    {
     "data": {
      "text/plain": [
       "array([[4219, 1123],\n",
       "       [   0,    0]], dtype=int64)"
      ]
     },
     "execution_count": 12,
     "metadata": {},
     "output_type": "execute_result"
    }
   ],
   "source": [
    "tab"
   ]
  },
  {
   "cell_type": "code",
   "execution_count": 13,
   "metadata": {},
   "outputs": [
    {
     "data": {
      "text/plain": [
       "0.7897791089479596"
      ]
     },
     "execution_count": 13,
     "metadata": {},
     "output_type": "execute_result"
    }
   ],
   "source": [
    "tab.diagonal().sum()/tab.sum()"
   ]
  },
  {
   "cell_type": "code",
   "execution_count": 14,
   "metadata": {},
   "outputs": [],
   "source": [
    "svc = SVC(kernel = 'linear')"
   ]
  },
  {
   "cell_type": "code",
   "execution_count": 15,
   "metadata": {},
   "outputs": [
    {
     "data": {
      "text/plain": [
       "SVC(kernel='linear')"
      ]
     },
     "execution_count": 15,
     "metadata": {},
     "output_type": "execute_result"
    }
   ],
   "source": [
    "svc.fit(h1n1_train_x, h1n1_train_y)"
   ]
  },
  {
   "cell_type": "code",
   "execution_count": 18,
   "metadata": {},
   "outputs": [],
   "source": [
    "pred_svc_lin = svc.predict(h1n1_test_x)"
   ]
  },
  {
   "cell_type": "code",
   "execution_count": 19,
   "metadata": {},
   "outputs": [
    {
     "data": {
      "text/plain": [
       "array([[3992,  821],\n",
       "       [ 227,  302]], dtype=int64)"
      ]
     },
     "execution_count": 19,
     "metadata": {},
     "output_type": "execute_result"
    }
   ],
   "source": [
    "tab = confusion_matrix(pred_svc_lin, h1n1_test_y)\n",
    "tab"
   ]
  },
  {
   "cell_type": "code",
   "execution_count": 20,
   "metadata": {},
   "outputs": [
    {
     "data": {
      "text/plain": [
       "0.8038187944590042"
      ]
     },
     "execution_count": 20,
     "metadata": {},
     "output_type": "execute_result"
    }
   ],
   "source": [
    "tab.diagonal().sum()/tab.sum()"
   ]
  },
  {
   "cell_type": "code",
   "execution_count": null,
   "metadata": {},
   "outputs": [],
   "source": []
  }
 ],
 "metadata": {
  "kernelspec": {
   "display_name": "Python 3",
   "language": "python",
   "name": "python3"
  },
  "language_info": {
   "codemirror_mode": {
    "name": "ipython",
    "version": 3
   },
   "file_extension": ".py",
   "mimetype": "text/x-python",
   "name": "python",
   "nbconvert_exporter": "python",
   "pygments_lexer": "ipython3",
   "version": "3.8.5"
  }
 },
 "nbformat": 4,
 "nbformat_minor": 4
}
