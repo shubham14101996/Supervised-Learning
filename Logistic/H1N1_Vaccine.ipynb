{
 "cells": [
  {
   "cell_type": "code",
   "execution_count": 1,
   "metadata": {},
   "outputs": [],
   "source": [
    "import pandas as pd"
   ]
  },
  {
   "cell_type": "code",
   "execution_count": 2,
   "metadata": {},
   "outputs": [],
   "source": [
    "pd.set_option(\"display.max_rows\", 101)"
   ]
  },
  {
   "cell_type": "code",
   "execution_count": 3,
   "metadata": {},
   "outputs": [],
   "source": [
    "pd.set_option('display.max_columns', 101)"
   ]
  },
  {
   "cell_type": "code",
   "execution_count": 4,
   "metadata": {},
   "outputs": [],
   "source": [
    "h1n1 = pd.read_csv('h1n1_vaccine_prediction.csv')"
   ]
  },
  {
   "cell_type": "code",
   "execution_count": 5,
   "metadata": {},
   "outputs": [
    {
     "data": {
      "text/html": [
       "<div>\n",
       "<style scoped>\n",
       "    .dataframe tbody tr th:only-of-type {\n",
       "        vertical-align: middle;\n",
       "    }\n",
       "\n",
       "    .dataframe tbody tr th {\n",
       "        vertical-align: top;\n",
       "    }\n",
       "\n",
       "    .dataframe thead th {\n",
       "        text-align: right;\n",
       "    }\n",
       "</style>\n",
       "<table border=\"1\" class=\"dataframe\">\n",
       "  <thead>\n",
       "    <tr style=\"text-align: right;\">\n",
       "      <th></th>\n",
       "      <th>unique_id</th>\n",
       "      <th>h1n1_worry</th>\n",
       "      <th>h1n1_awareness</th>\n",
       "      <th>antiviral_medication</th>\n",
       "      <th>contact_avoidance</th>\n",
       "      <th>bought_face_mask</th>\n",
       "      <th>wash_hands_frequently</th>\n",
       "      <th>avoid_large_gatherings</th>\n",
       "      <th>reduced_outside_home_cont</th>\n",
       "      <th>avoid_touch_face</th>\n",
       "      <th>dr_recc_h1n1_vacc</th>\n",
       "      <th>dr_recc_seasonal_vacc</th>\n",
       "      <th>chronic_medic_condition</th>\n",
       "      <th>cont_child_undr_6_mnths</th>\n",
       "      <th>is_health_worker</th>\n",
       "      <th>has_health_insur</th>\n",
       "      <th>is_h1n1_vacc_effective</th>\n",
       "      <th>is_h1n1_risky</th>\n",
       "      <th>sick_from_h1n1_vacc</th>\n",
       "      <th>is_seas_vacc_effective</th>\n",
       "      <th>is_seas_risky</th>\n",
       "      <th>sick_from_seas_vacc</th>\n",
       "      <th>age_bracket</th>\n",
       "      <th>qualification</th>\n",
       "      <th>race</th>\n",
       "      <th>sex</th>\n",
       "      <th>income_level</th>\n",
       "      <th>marital_status</th>\n",
       "      <th>housing_status</th>\n",
       "      <th>employment</th>\n",
       "      <th>census_msa</th>\n",
       "      <th>no_of_adults</th>\n",
       "      <th>no_of_children</th>\n",
       "      <th>h1n1_vaccine</th>\n",
       "    </tr>\n",
       "  </thead>\n",
       "  <tbody>\n",
       "    <tr>\n",
       "      <th>0</th>\n",
       "      <td>0</td>\n",
       "      <td>1.0</td>\n",
       "      <td>0.0</td>\n",
       "      <td>0.0</td>\n",
       "      <td>0.0</td>\n",
       "      <td>0.0</td>\n",
       "      <td>0.0</td>\n",
       "      <td>0.0</td>\n",
       "      <td>1.0</td>\n",
       "      <td>1.0</td>\n",
       "      <td>0.0</td>\n",
       "      <td>0.0</td>\n",
       "      <td>0.0</td>\n",
       "      <td>0.0</td>\n",
       "      <td>0.0</td>\n",
       "      <td>1.0</td>\n",
       "      <td>3.0</td>\n",
       "      <td>1.0</td>\n",
       "      <td>2.0</td>\n",
       "      <td>2.0</td>\n",
       "      <td>1.0</td>\n",
       "      <td>2.0</td>\n",
       "      <td>55 - 64 Years</td>\n",
       "      <td>&lt; 12 Years</td>\n",
       "      <td>White</td>\n",
       "      <td>Female</td>\n",
       "      <td>Below Poverty</td>\n",
       "      <td>Not Married</td>\n",
       "      <td>Own</td>\n",
       "      <td>Not in Labor Force</td>\n",
       "      <td>Non-MSA</td>\n",
       "      <td>0.0</td>\n",
       "      <td>0.0</td>\n",
       "      <td>0</td>\n",
       "    </tr>\n",
       "    <tr>\n",
       "      <th>1</th>\n",
       "      <td>1</td>\n",
       "      <td>3.0</td>\n",
       "      <td>2.0</td>\n",
       "      <td>0.0</td>\n",
       "      <td>1.0</td>\n",
       "      <td>0.0</td>\n",
       "      <td>1.0</td>\n",
       "      <td>0.0</td>\n",
       "      <td>1.0</td>\n",
       "      <td>1.0</td>\n",
       "      <td>0.0</td>\n",
       "      <td>0.0</td>\n",
       "      <td>0.0</td>\n",
       "      <td>0.0</td>\n",
       "      <td>0.0</td>\n",
       "      <td>1.0</td>\n",
       "      <td>5.0</td>\n",
       "      <td>4.0</td>\n",
       "      <td>4.0</td>\n",
       "      <td>4.0</td>\n",
       "      <td>2.0</td>\n",
       "      <td>4.0</td>\n",
       "      <td>35 - 44 Years</td>\n",
       "      <td>12 Years</td>\n",
       "      <td>White</td>\n",
       "      <td>Male</td>\n",
       "      <td>Below Poverty</td>\n",
       "      <td>Not Married</td>\n",
       "      <td>Rent</td>\n",
       "      <td>Employed</td>\n",
       "      <td>MSA, Not Principle  City</td>\n",
       "      <td>0.0</td>\n",
       "      <td>0.0</td>\n",
       "      <td>0</td>\n",
       "    </tr>\n",
       "    <tr>\n",
       "      <th>2</th>\n",
       "      <td>2</td>\n",
       "      <td>1.0</td>\n",
       "      <td>1.0</td>\n",
       "      <td>0.0</td>\n",
       "      <td>1.0</td>\n",
       "      <td>0.0</td>\n",
       "      <td>0.0</td>\n",
       "      <td>0.0</td>\n",
       "      <td>0.0</td>\n",
       "      <td>0.0</td>\n",
       "      <td>NaN</td>\n",
       "      <td>NaN</td>\n",
       "      <td>1.0</td>\n",
       "      <td>0.0</td>\n",
       "      <td>0.0</td>\n",
       "      <td>NaN</td>\n",
       "      <td>3.0</td>\n",
       "      <td>1.0</td>\n",
       "      <td>1.0</td>\n",
       "      <td>4.0</td>\n",
       "      <td>1.0</td>\n",
       "      <td>2.0</td>\n",
       "      <td>18 - 34 Years</td>\n",
       "      <td>College Graduate</td>\n",
       "      <td>White</td>\n",
       "      <td>Male</td>\n",
       "      <td>&lt;= $75,000, Above Poverty</td>\n",
       "      <td>Not Married</td>\n",
       "      <td>Own</td>\n",
       "      <td>Employed</td>\n",
       "      <td>MSA, Not Principle  City</td>\n",
       "      <td>2.0</td>\n",
       "      <td>0.0</td>\n",
       "      <td>0</td>\n",
       "    </tr>\n",
       "    <tr>\n",
       "      <th>3</th>\n",
       "      <td>3</td>\n",
       "      <td>1.0</td>\n",
       "      <td>1.0</td>\n",
       "      <td>0.0</td>\n",
       "      <td>1.0</td>\n",
       "      <td>0.0</td>\n",
       "      <td>1.0</td>\n",
       "      <td>1.0</td>\n",
       "      <td>0.0</td>\n",
       "      <td>0.0</td>\n",
       "      <td>0.0</td>\n",
       "      <td>1.0</td>\n",
       "      <td>1.0</td>\n",
       "      <td>0.0</td>\n",
       "      <td>0.0</td>\n",
       "      <td>NaN</td>\n",
       "      <td>3.0</td>\n",
       "      <td>3.0</td>\n",
       "      <td>5.0</td>\n",
       "      <td>5.0</td>\n",
       "      <td>4.0</td>\n",
       "      <td>1.0</td>\n",
       "      <td>65+ Years</td>\n",
       "      <td>12 Years</td>\n",
       "      <td>White</td>\n",
       "      <td>Female</td>\n",
       "      <td>Below Poverty</td>\n",
       "      <td>Not Married</td>\n",
       "      <td>Rent</td>\n",
       "      <td>Not in Labor Force</td>\n",
       "      <td>MSA, Principle City</td>\n",
       "      <td>0.0</td>\n",
       "      <td>0.0</td>\n",
       "      <td>0</td>\n",
       "    </tr>\n",
       "    <tr>\n",
       "      <th>4</th>\n",
       "      <td>4</td>\n",
       "      <td>2.0</td>\n",
       "      <td>1.0</td>\n",
       "      <td>0.0</td>\n",
       "      <td>1.0</td>\n",
       "      <td>0.0</td>\n",
       "      <td>1.0</td>\n",
       "      <td>1.0</td>\n",
       "      <td>0.0</td>\n",
       "      <td>1.0</td>\n",
       "      <td>0.0</td>\n",
       "      <td>0.0</td>\n",
       "      <td>0.0</td>\n",
       "      <td>0.0</td>\n",
       "      <td>0.0</td>\n",
       "      <td>NaN</td>\n",
       "      <td>3.0</td>\n",
       "      <td>3.0</td>\n",
       "      <td>2.0</td>\n",
       "      <td>3.0</td>\n",
       "      <td>1.0</td>\n",
       "      <td>4.0</td>\n",
       "      <td>45 - 54 Years</td>\n",
       "      <td>Some College</td>\n",
       "      <td>White</td>\n",
       "      <td>Female</td>\n",
       "      <td>&lt;= $75,000, Above Poverty</td>\n",
       "      <td>Married</td>\n",
       "      <td>Own</td>\n",
       "      <td>Employed</td>\n",
       "      <td>MSA, Not Principle  City</td>\n",
       "      <td>1.0</td>\n",
       "      <td>0.0</td>\n",
       "      <td>0</td>\n",
       "    </tr>\n",
       "  </tbody>\n",
       "</table>\n",
       "</div>"
      ],
      "text/plain": [
       "   unique_id  h1n1_worry  h1n1_awareness  antiviral_medication  \\\n",
       "0          0         1.0             0.0                   0.0   \n",
       "1          1         3.0             2.0                   0.0   \n",
       "2          2         1.0             1.0                   0.0   \n",
       "3          3         1.0             1.0                   0.0   \n",
       "4          4         2.0             1.0                   0.0   \n",
       "\n",
       "   contact_avoidance  bought_face_mask  wash_hands_frequently  \\\n",
       "0                0.0               0.0                    0.0   \n",
       "1                1.0               0.0                    1.0   \n",
       "2                1.0               0.0                    0.0   \n",
       "3                1.0               0.0                    1.0   \n",
       "4                1.0               0.0                    1.0   \n",
       "\n",
       "   avoid_large_gatherings  reduced_outside_home_cont  avoid_touch_face  \\\n",
       "0                     0.0                        1.0               1.0   \n",
       "1                     0.0                        1.0               1.0   \n",
       "2                     0.0                        0.0               0.0   \n",
       "3                     1.0                        0.0               0.0   \n",
       "4                     1.0                        0.0               1.0   \n",
       "\n",
       "   dr_recc_h1n1_vacc  dr_recc_seasonal_vacc  chronic_medic_condition  \\\n",
       "0                0.0                    0.0                      0.0   \n",
       "1                0.0                    0.0                      0.0   \n",
       "2                NaN                    NaN                      1.0   \n",
       "3                0.0                    1.0                      1.0   \n",
       "4                0.0                    0.0                      0.0   \n",
       "\n",
       "   cont_child_undr_6_mnths  is_health_worker  has_health_insur  \\\n",
       "0                      0.0               0.0               1.0   \n",
       "1                      0.0               0.0               1.0   \n",
       "2                      0.0               0.0               NaN   \n",
       "3                      0.0               0.0               NaN   \n",
       "4                      0.0               0.0               NaN   \n",
       "\n",
       "   is_h1n1_vacc_effective  is_h1n1_risky  sick_from_h1n1_vacc  \\\n",
       "0                     3.0            1.0                  2.0   \n",
       "1                     5.0            4.0                  4.0   \n",
       "2                     3.0            1.0                  1.0   \n",
       "3                     3.0            3.0                  5.0   \n",
       "4                     3.0            3.0                  2.0   \n",
       "\n",
       "   is_seas_vacc_effective  is_seas_risky  sick_from_seas_vacc    age_bracket  \\\n",
       "0                     2.0            1.0                  2.0  55 - 64 Years   \n",
       "1                     4.0            2.0                  4.0  35 - 44 Years   \n",
       "2                     4.0            1.0                  2.0  18 - 34 Years   \n",
       "3                     5.0            4.0                  1.0      65+ Years   \n",
       "4                     3.0            1.0                  4.0  45 - 54 Years   \n",
       "\n",
       "      qualification   race     sex               income_level marital_status  \\\n",
       "0        < 12 Years  White  Female              Below Poverty    Not Married   \n",
       "1          12 Years  White    Male              Below Poverty    Not Married   \n",
       "2  College Graduate  White    Male  <= $75,000, Above Poverty    Not Married   \n",
       "3          12 Years  White  Female              Below Poverty    Not Married   \n",
       "4      Some College  White  Female  <= $75,000, Above Poverty        Married   \n",
       "\n",
       "  housing_status          employment                census_msa  no_of_adults  \\\n",
       "0            Own  Not in Labor Force                   Non-MSA           0.0   \n",
       "1           Rent            Employed  MSA, Not Principle  City           0.0   \n",
       "2            Own            Employed  MSA, Not Principle  City           2.0   \n",
       "3           Rent  Not in Labor Force       MSA, Principle City           0.0   \n",
       "4            Own            Employed  MSA, Not Principle  City           1.0   \n",
       "\n",
       "   no_of_children  h1n1_vaccine  \n",
       "0             0.0             0  \n",
       "1             0.0             0  \n",
       "2             0.0             0  \n",
       "3             0.0             0  \n",
       "4             0.0             0  "
      ]
     },
     "execution_count": 5,
     "metadata": {},
     "output_type": "execute_result"
    }
   ],
   "source": [
    "h1n1.head()"
   ]
  },
  {
   "cell_type": "code",
   "execution_count": 6,
   "metadata": {},
   "outputs": [
    {
     "name": "stdout",
     "output_type": "stream",
     "text": [
      "<class 'pandas.core.frame.DataFrame'>\n",
      "RangeIndex: 26707 entries, 0 to 26706\n",
      "Data columns (total 34 columns):\n",
      " #   Column                     Non-Null Count  Dtype  \n",
      "---  ------                     --------------  -----  \n",
      " 0   unique_id                  26707 non-null  int64  \n",
      " 1   h1n1_worry                 26615 non-null  float64\n",
      " 2   h1n1_awareness             26591 non-null  float64\n",
      " 3   antiviral_medication       26636 non-null  float64\n",
      " 4   contact_avoidance          26499 non-null  float64\n",
      " 5   bought_face_mask           26688 non-null  float64\n",
      " 6   wash_hands_frequently      26665 non-null  float64\n",
      " 7   avoid_large_gatherings     26620 non-null  float64\n",
      " 8   reduced_outside_home_cont  26625 non-null  float64\n",
      " 9   avoid_touch_face           26579 non-null  float64\n",
      " 10  dr_recc_h1n1_vacc          24547 non-null  float64\n",
      " 11  dr_recc_seasonal_vacc      24547 non-null  float64\n",
      " 12  chronic_medic_condition    25736 non-null  float64\n",
      " 13  cont_child_undr_6_mnths    25887 non-null  float64\n",
      " 14  is_health_worker           25903 non-null  float64\n",
      " 15  has_health_insur           14433 non-null  float64\n",
      " 16  is_h1n1_vacc_effective     26316 non-null  float64\n",
      " 17  is_h1n1_risky              26319 non-null  float64\n",
      " 18  sick_from_h1n1_vacc        26312 non-null  float64\n",
      " 19  is_seas_vacc_effective     26245 non-null  float64\n",
      " 20  is_seas_risky              26193 non-null  float64\n",
      " 21  sick_from_seas_vacc        26170 non-null  float64\n",
      " 22  age_bracket                26707 non-null  object \n",
      " 23  qualification              25300 non-null  object \n",
      " 24  race                       26707 non-null  object \n",
      " 25  sex                        26707 non-null  object \n",
      " 26  income_level               22284 non-null  object \n",
      " 27  marital_status             25299 non-null  object \n",
      " 28  housing_status             24665 non-null  object \n",
      " 29  employment                 25244 non-null  object \n",
      " 30  census_msa                 26707 non-null  object \n",
      " 31  no_of_adults               26458 non-null  float64\n",
      " 32  no_of_children             26458 non-null  float64\n",
      " 33  h1n1_vaccine               26707 non-null  int64  \n",
      "dtypes: float64(23), int64(2), object(9)\n",
      "memory usage: 6.9+ MB\n"
     ]
    }
   ],
   "source": [
    "h1n1.info()"
   ]
  },
  {
   "cell_type": "code",
   "execution_count": 7,
   "metadata": {},
   "outputs": [
    {
     "data": {
      "text/html": [
       "<div>\n",
       "<style scoped>\n",
       "    .dataframe tbody tr th:only-of-type {\n",
       "        vertical-align: middle;\n",
       "    }\n",
       "\n",
       "    .dataframe tbody tr th {\n",
       "        vertical-align: top;\n",
       "    }\n",
       "\n",
       "    .dataframe thead th {\n",
       "        text-align: right;\n",
       "    }\n",
       "</style>\n",
       "<table border=\"1\" class=\"dataframe\">\n",
       "  <thead>\n",
       "    <tr style=\"text-align: right;\">\n",
       "      <th></th>\n",
       "      <th>age_bracket</th>\n",
       "      <th>qualification</th>\n",
       "      <th>race</th>\n",
       "      <th>sex</th>\n",
       "      <th>income_level</th>\n",
       "      <th>marital_status</th>\n",
       "      <th>housing_status</th>\n",
       "      <th>employment</th>\n",
       "      <th>census_msa</th>\n",
       "    </tr>\n",
       "  </thead>\n",
       "  <tbody>\n",
       "    <tr>\n",
       "      <th>0</th>\n",
       "      <td>55 - 64 Years</td>\n",
       "      <td>&lt; 12 Years</td>\n",
       "      <td>White</td>\n",
       "      <td>Female</td>\n",
       "      <td>Below Poverty</td>\n",
       "      <td>Not Married</td>\n",
       "      <td>Own</td>\n",
       "      <td>Not in Labor Force</td>\n",
       "      <td>Non-MSA</td>\n",
       "    </tr>\n",
       "    <tr>\n",
       "      <th>1</th>\n",
       "      <td>35 - 44 Years</td>\n",
       "      <td>12 Years</td>\n",
       "      <td>White</td>\n",
       "      <td>Male</td>\n",
       "      <td>Below Poverty</td>\n",
       "      <td>Not Married</td>\n",
       "      <td>Rent</td>\n",
       "      <td>Employed</td>\n",
       "      <td>MSA, Not Principle  City</td>\n",
       "    </tr>\n",
       "    <tr>\n",
       "      <th>2</th>\n",
       "      <td>18 - 34 Years</td>\n",
       "      <td>College Graduate</td>\n",
       "      <td>White</td>\n",
       "      <td>Male</td>\n",
       "      <td>&lt;= $75,000, Above Poverty</td>\n",
       "      <td>Not Married</td>\n",
       "      <td>Own</td>\n",
       "      <td>Employed</td>\n",
       "      <td>MSA, Not Principle  City</td>\n",
       "    </tr>\n",
       "    <tr>\n",
       "      <th>3</th>\n",
       "      <td>65+ Years</td>\n",
       "      <td>12 Years</td>\n",
       "      <td>White</td>\n",
       "      <td>Female</td>\n",
       "      <td>Below Poverty</td>\n",
       "      <td>Not Married</td>\n",
       "      <td>Rent</td>\n",
       "      <td>Not in Labor Force</td>\n",
       "      <td>MSA, Principle City</td>\n",
       "    </tr>\n",
       "    <tr>\n",
       "      <th>4</th>\n",
       "      <td>45 - 54 Years</td>\n",
       "      <td>Some College</td>\n",
       "      <td>White</td>\n",
       "      <td>Female</td>\n",
       "      <td>&lt;= $75,000, Above Poverty</td>\n",
       "      <td>Married</td>\n",
       "      <td>Own</td>\n",
       "      <td>Employed</td>\n",
       "      <td>MSA, Not Principle  City</td>\n",
       "    </tr>\n",
       "  </tbody>\n",
       "</table>\n",
       "</div>"
      ],
      "text/plain": [
       "     age_bracket     qualification   race     sex               income_level  \\\n",
       "0  55 - 64 Years        < 12 Years  White  Female              Below Poverty   \n",
       "1  35 - 44 Years          12 Years  White    Male              Below Poverty   \n",
       "2  18 - 34 Years  College Graduate  White    Male  <= $75,000, Above Poverty   \n",
       "3      65+ Years          12 Years  White  Female              Below Poverty   \n",
       "4  45 - 54 Years      Some College  White  Female  <= $75,000, Above Poverty   \n",
       "\n",
       "  marital_status housing_status          employment                census_msa  \n",
       "0    Not Married            Own  Not in Labor Force                   Non-MSA  \n",
       "1    Not Married           Rent            Employed  MSA, Not Principle  City  \n",
       "2    Not Married            Own            Employed  MSA, Not Principle  City  \n",
       "3    Not Married           Rent  Not in Labor Force       MSA, Principle City  \n",
       "4        Married            Own            Employed  MSA, Not Principle  City  "
      ]
     },
     "execution_count": 7,
     "metadata": {},
     "output_type": "execute_result"
    }
   ],
   "source": [
    "h1n1.select_dtypes(include = 'object').head(5)"
   ]
  },
  {
   "cell_type": "code",
   "execution_count": 8,
   "metadata": {},
   "outputs": [
    {
     "data": {
      "text/plain": [
       "College Graduate    10097\n",
       "Some College         7043\n",
       "12 Years             5797\n",
       "< 12 Years           2363\n",
       "Name: qualification, dtype: int64"
      ]
     },
     "execution_count": 8,
     "metadata": {},
     "output_type": "execute_result"
    }
   ],
   "source": [
    "h1n1.qualification.value_counts()"
   ]
  },
  {
   "cell_type": "code",
   "execution_count": 9,
   "metadata": {},
   "outputs": [
    {
     "data": {
      "text/plain": [
       "<= $75,000, Above Poverty    12777\n",
       "> $75,000                     6810\n",
       "Below Poverty                 2697\n",
       "Name: income_level, dtype: int64"
      ]
     },
     "execution_count": 9,
     "metadata": {},
     "output_type": "execute_result"
    }
   ],
   "source": [
    "h1n1.income_level.value_counts()"
   ]
  },
  {
   "cell_type": "code",
   "execution_count": 10,
   "metadata": {},
   "outputs": [
    {
     "data": {
      "text/plain": [
       "65+ Years        6843\n",
       "55 - 64 Years    5563\n",
       "45 - 54 Years    5238\n",
       "18 - 34 Years    5215\n",
       "35 - 44 Years    3848\n",
       "Name: age_bracket, dtype: int64"
      ]
     },
     "execution_count": 10,
     "metadata": {},
     "output_type": "execute_result"
    }
   ],
   "source": [
    "h1n1.age_bracket.value_counts()"
   ]
  },
  {
   "cell_type": "code",
   "execution_count": 11,
   "metadata": {},
   "outputs": [],
   "source": [
    "# list1 = h1n1.select_dtypes(include='object').columns\n",
    "# list1 = list(list1)\n",
    "# for x in list1:\n",
    "#     print(x)\n",
    "#     h1n1.x.value_counts()\n",
    "    "
   ]
  },
  {
   "cell_type": "code",
   "execution_count": 12,
   "metadata": {},
   "outputs": [
    {
     "data": {
      "text/plain": [
       "unique_id                        0\n",
       "h1n1_worry                      92\n",
       "h1n1_awareness                 116\n",
       "antiviral_medication            71\n",
       "contact_avoidance              208\n",
       "bought_face_mask                19\n",
       "wash_hands_frequently           42\n",
       "avoid_large_gatherings          87\n",
       "reduced_outside_home_cont       82\n",
       "avoid_touch_face               128\n",
       "dr_recc_h1n1_vacc             2160\n",
       "dr_recc_seasonal_vacc         2160\n",
       "chronic_medic_condition        971\n",
       "cont_child_undr_6_mnths        820\n",
       "is_health_worker               804\n",
       "has_health_insur             12274\n",
       "is_h1n1_vacc_effective         391\n",
       "is_h1n1_risky                  388\n",
       "sick_from_h1n1_vacc            395\n",
       "is_seas_vacc_effective         462\n",
       "is_seas_risky                  514\n",
       "sick_from_seas_vacc            537\n",
       "age_bracket                      0\n",
       "qualification                 1407\n",
       "race                             0\n",
       "sex                              0\n",
       "income_level                  4423\n",
       "marital_status                1408\n",
       "housing_status                2042\n",
       "employment                    1463\n",
       "census_msa                       0\n",
       "no_of_adults                   249\n",
       "no_of_children                 249\n",
       "h1n1_vaccine                     0\n",
       "dtype: int64"
      ]
     },
     "execution_count": 12,
     "metadata": {},
     "output_type": "execute_result"
    }
   ],
   "source": [
    "h1n1.isnull().sum()"
   ]
  },
  {
   "cell_type": "code",
   "execution_count": 13,
   "metadata": {},
   "outputs": [
    {
     "data": {
      "text/plain": [
       "(26707, 34)"
      ]
     },
     "execution_count": 13,
     "metadata": {},
     "output_type": "execute_result"
    }
   ],
   "source": [
    "h1n1.shape"
   ]
  },
  {
   "cell_type": "code",
   "execution_count": 14,
   "metadata": {},
   "outputs": [
    {
     "data": {
      "text/html": [
       "<div>\n",
       "<style scoped>\n",
       "    .dataframe tbody tr th:only-of-type {\n",
       "        vertical-align: middle;\n",
       "    }\n",
       "\n",
       "    .dataframe tbody tr th {\n",
       "        vertical-align: top;\n",
       "    }\n",
       "\n",
       "    .dataframe thead th {\n",
       "        text-align: right;\n",
       "    }\n",
       "</style>\n",
       "<table border=\"1\" class=\"dataframe\">\n",
       "  <thead>\n",
       "    <tr style=\"text-align: right;\">\n",
       "      <th></th>\n",
       "      <th>unique_id</th>\n",
       "      <th>h1n1_worry</th>\n",
       "      <th>h1n1_awareness</th>\n",
       "      <th>antiviral_medication</th>\n",
       "      <th>contact_avoidance</th>\n",
       "      <th>bought_face_mask</th>\n",
       "      <th>wash_hands_frequently</th>\n",
       "      <th>avoid_large_gatherings</th>\n",
       "      <th>reduced_outside_home_cont</th>\n",
       "      <th>avoid_touch_face</th>\n",
       "      <th>dr_recc_h1n1_vacc</th>\n",
       "      <th>dr_recc_seasonal_vacc</th>\n",
       "      <th>chronic_medic_condition</th>\n",
       "      <th>cont_child_undr_6_mnths</th>\n",
       "      <th>is_health_worker</th>\n",
       "      <th>has_health_insur</th>\n",
       "      <th>is_h1n1_vacc_effective</th>\n",
       "      <th>is_h1n1_risky</th>\n",
       "      <th>sick_from_h1n1_vacc</th>\n",
       "      <th>is_seas_vacc_effective</th>\n",
       "      <th>is_seas_risky</th>\n",
       "      <th>sick_from_seas_vacc</th>\n",
       "      <th>age_bracket</th>\n",
       "      <th>qualification</th>\n",
       "      <th>race</th>\n",
       "      <th>sex</th>\n",
       "      <th>income_level</th>\n",
       "      <th>marital_status</th>\n",
       "      <th>housing_status</th>\n",
       "      <th>employment</th>\n",
       "      <th>census_msa</th>\n",
       "      <th>no_of_adults</th>\n",
       "      <th>no_of_children</th>\n",
       "      <th>h1n1_vaccine</th>\n",
       "    </tr>\n",
       "  </thead>\n",
       "  <tbody>\n",
       "    <tr>\n",
       "      <th>0</th>\n",
       "      <td>0</td>\n",
       "      <td>1.0</td>\n",
       "      <td>0.0</td>\n",
       "      <td>0.0</td>\n",
       "      <td>0.0</td>\n",
       "      <td>0.0</td>\n",
       "      <td>0.0</td>\n",
       "      <td>0.0</td>\n",
       "      <td>1.0</td>\n",
       "      <td>1.0</td>\n",
       "      <td>0.0</td>\n",
       "      <td>0.0</td>\n",
       "      <td>0.0</td>\n",
       "      <td>0.0</td>\n",
       "      <td>0.0</td>\n",
       "      <td>1.0</td>\n",
       "      <td>3.0</td>\n",
       "      <td>1.0</td>\n",
       "      <td>2.0</td>\n",
       "      <td>2.0</td>\n",
       "      <td>1.0</td>\n",
       "      <td>2.0</td>\n",
       "      <td>55 - 64 Years</td>\n",
       "      <td>&lt; 12 Years</td>\n",
       "      <td>White</td>\n",
       "      <td>Female</td>\n",
       "      <td>Below Poverty</td>\n",
       "      <td>Not Married</td>\n",
       "      <td>Own</td>\n",
       "      <td>Not in Labor Force</td>\n",
       "      <td>Non-MSA</td>\n",
       "      <td>0.0</td>\n",
       "      <td>0.0</td>\n",
       "      <td>0</td>\n",
       "    </tr>\n",
       "    <tr>\n",
       "      <th>1</th>\n",
       "      <td>1</td>\n",
       "      <td>3.0</td>\n",
       "      <td>2.0</td>\n",
       "      <td>0.0</td>\n",
       "      <td>1.0</td>\n",
       "      <td>0.0</td>\n",
       "      <td>1.0</td>\n",
       "      <td>0.0</td>\n",
       "      <td>1.0</td>\n",
       "      <td>1.0</td>\n",
       "      <td>0.0</td>\n",
       "      <td>0.0</td>\n",
       "      <td>0.0</td>\n",
       "      <td>0.0</td>\n",
       "      <td>0.0</td>\n",
       "      <td>1.0</td>\n",
       "      <td>5.0</td>\n",
       "      <td>4.0</td>\n",
       "      <td>4.0</td>\n",
       "      <td>4.0</td>\n",
       "      <td>2.0</td>\n",
       "      <td>4.0</td>\n",
       "      <td>35 - 44 Years</td>\n",
       "      <td>12 Years</td>\n",
       "      <td>White</td>\n",
       "      <td>Male</td>\n",
       "      <td>Below Poverty</td>\n",
       "      <td>Not Married</td>\n",
       "      <td>Rent</td>\n",
       "      <td>Employed</td>\n",
       "      <td>MSA, Not Principle  City</td>\n",
       "      <td>0.0</td>\n",
       "      <td>0.0</td>\n",
       "      <td>0</td>\n",
       "    </tr>\n",
       "    <tr>\n",
       "      <th>2</th>\n",
       "      <td>2</td>\n",
       "      <td>1.0</td>\n",
       "      <td>1.0</td>\n",
       "      <td>0.0</td>\n",
       "      <td>1.0</td>\n",
       "      <td>0.0</td>\n",
       "      <td>0.0</td>\n",
       "      <td>0.0</td>\n",
       "      <td>0.0</td>\n",
       "      <td>0.0</td>\n",
       "      <td>NaN</td>\n",
       "      <td>NaN</td>\n",
       "      <td>1.0</td>\n",
       "      <td>0.0</td>\n",
       "      <td>0.0</td>\n",
       "      <td>NaN</td>\n",
       "      <td>3.0</td>\n",
       "      <td>1.0</td>\n",
       "      <td>1.0</td>\n",
       "      <td>4.0</td>\n",
       "      <td>1.0</td>\n",
       "      <td>2.0</td>\n",
       "      <td>18 - 34 Years</td>\n",
       "      <td>College Graduate</td>\n",
       "      <td>White</td>\n",
       "      <td>Male</td>\n",
       "      <td>&lt;= $75,000, Above Poverty</td>\n",
       "      <td>Not Married</td>\n",
       "      <td>Own</td>\n",
       "      <td>Employed</td>\n",
       "      <td>MSA, Not Principle  City</td>\n",
       "      <td>2.0</td>\n",
       "      <td>0.0</td>\n",
       "      <td>0</td>\n",
       "    </tr>\n",
       "    <tr>\n",
       "      <th>3</th>\n",
       "      <td>3</td>\n",
       "      <td>1.0</td>\n",
       "      <td>1.0</td>\n",
       "      <td>0.0</td>\n",
       "      <td>1.0</td>\n",
       "      <td>0.0</td>\n",
       "      <td>1.0</td>\n",
       "      <td>1.0</td>\n",
       "      <td>0.0</td>\n",
       "      <td>0.0</td>\n",
       "      <td>0.0</td>\n",
       "      <td>1.0</td>\n",
       "      <td>1.0</td>\n",
       "      <td>0.0</td>\n",
       "      <td>0.0</td>\n",
       "      <td>NaN</td>\n",
       "      <td>3.0</td>\n",
       "      <td>3.0</td>\n",
       "      <td>5.0</td>\n",
       "      <td>5.0</td>\n",
       "      <td>4.0</td>\n",
       "      <td>1.0</td>\n",
       "      <td>65+ Years</td>\n",
       "      <td>12 Years</td>\n",
       "      <td>White</td>\n",
       "      <td>Female</td>\n",
       "      <td>Below Poverty</td>\n",
       "      <td>Not Married</td>\n",
       "      <td>Rent</td>\n",
       "      <td>Not in Labor Force</td>\n",
       "      <td>MSA, Principle City</td>\n",
       "      <td>0.0</td>\n",
       "      <td>0.0</td>\n",
       "      <td>0</td>\n",
       "    </tr>\n",
       "    <tr>\n",
       "      <th>4</th>\n",
       "      <td>4</td>\n",
       "      <td>2.0</td>\n",
       "      <td>1.0</td>\n",
       "      <td>0.0</td>\n",
       "      <td>1.0</td>\n",
       "      <td>0.0</td>\n",
       "      <td>1.0</td>\n",
       "      <td>1.0</td>\n",
       "      <td>0.0</td>\n",
       "      <td>1.0</td>\n",
       "      <td>0.0</td>\n",
       "      <td>0.0</td>\n",
       "      <td>0.0</td>\n",
       "      <td>0.0</td>\n",
       "      <td>0.0</td>\n",
       "      <td>NaN</td>\n",
       "      <td>3.0</td>\n",
       "      <td>3.0</td>\n",
       "      <td>2.0</td>\n",
       "      <td>3.0</td>\n",
       "      <td>1.0</td>\n",
       "      <td>4.0</td>\n",
       "      <td>45 - 54 Years</td>\n",
       "      <td>Some College</td>\n",
       "      <td>White</td>\n",
       "      <td>Female</td>\n",
       "      <td>&lt;= $75,000, Above Poverty</td>\n",
       "      <td>Married</td>\n",
       "      <td>Own</td>\n",
       "      <td>Employed</td>\n",
       "      <td>MSA, Not Principle  City</td>\n",
       "      <td>1.0</td>\n",
       "      <td>0.0</td>\n",
       "      <td>0</td>\n",
       "    </tr>\n",
       "  </tbody>\n",
       "</table>\n",
       "</div>"
      ],
      "text/plain": [
       "   unique_id  h1n1_worry  h1n1_awareness  antiviral_medication  \\\n",
       "0          0         1.0             0.0                   0.0   \n",
       "1          1         3.0             2.0                   0.0   \n",
       "2          2         1.0             1.0                   0.0   \n",
       "3          3         1.0             1.0                   0.0   \n",
       "4          4         2.0             1.0                   0.0   \n",
       "\n",
       "   contact_avoidance  bought_face_mask  wash_hands_frequently  \\\n",
       "0                0.0               0.0                    0.0   \n",
       "1                1.0               0.0                    1.0   \n",
       "2                1.0               0.0                    0.0   \n",
       "3                1.0               0.0                    1.0   \n",
       "4                1.0               0.0                    1.0   \n",
       "\n",
       "   avoid_large_gatherings  reduced_outside_home_cont  avoid_touch_face  \\\n",
       "0                     0.0                        1.0               1.0   \n",
       "1                     0.0                        1.0               1.0   \n",
       "2                     0.0                        0.0               0.0   \n",
       "3                     1.0                        0.0               0.0   \n",
       "4                     1.0                        0.0               1.0   \n",
       "\n",
       "   dr_recc_h1n1_vacc  dr_recc_seasonal_vacc  chronic_medic_condition  \\\n",
       "0                0.0                    0.0                      0.0   \n",
       "1                0.0                    0.0                      0.0   \n",
       "2                NaN                    NaN                      1.0   \n",
       "3                0.0                    1.0                      1.0   \n",
       "4                0.0                    0.0                      0.0   \n",
       "\n",
       "   cont_child_undr_6_mnths  is_health_worker  has_health_insur  \\\n",
       "0                      0.0               0.0               1.0   \n",
       "1                      0.0               0.0               1.0   \n",
       "2                      0.0               0.0               NaN   \n",
       "3                      0.0               0.0               NaN   \n",
       "4                      0.0               0.0               NaN   \n",
       "\n",
       "   is_h1n1_vacc_effective  is_h1n1_risky  sick_from_h1n1_vacc  \\\n",
       "0                     3.0            1.0                  2.0   \n",
       "1                     5.0            4.0                  4.0   \n",
       "2                     3.0            1.0                  1.0   \n",
       "3                     3.0            3.0                  5.0   \n",
       "4                     3.0            3.0                  2.0   \n",
       "\n",
       "   is_seas_vacc_effective  is_seas_risky  sick_from_seas_vacc    age_bracket  \\\n",
       "0                     2.0            1.0                  2.0  55 - 64 Years   \n",
       "1                     4.0            2.0                  4.0  35 - 44 Years   \n",
       "2                     4.0            1.0                  2.0  18 - 34 Years   \n",
       "3                     5.0            4.0                  1.0      65+ Years   \n",
       "4                     3.0            1.0                  4.0  45 - 54 Years   \n",
       "\n",
       "      qualification   race     sex               income_level marital_status  \\\n",
       "0        < 12 Years  White  Female              Below Poverty    Not Married   \n",
       "1          12 Years  White    Male              Below Poverty    Not Married   \n",
       "2  College Graduate  White    Male  <= $75,000, Above Poverty    Not Married   \n",
       "3          12 Years  White  Female              Below Poverty    Not Married   \n",
       "4      Some College  White  Female  <= $75,000, Above Poverty        Married   \n",
       "\n",
       "  housing_status          employment                census_msa  no_of_adults  \\\n",
       "0            Own  Not in Labor Force                   Non-MSA           0.0   \n",
       "1           Rent            Employed  MSA, Not Principle  City           0.0   \n",
       "2            Own            Employed  MSA, Not Principle  City           2.0   \n",
       "3           Rent  Not in Labor Force       MSA, Principle City           0.0   \n",
       "4            Own            Employed  MSA, Not Principle  City           1.0   \n",
       "\n",
       "   no_of_children  h1n1_vaccine  \n",
       "0             0.0             0  \n",
       "1             0.0             0  \n",
       "2             0.0             0  \n",
       "3             0.0             0  \n",
       "4             0.0             0  "
      ]
     },
     "execution_count": 14,
     "metadata": {},
     "output_type": "execute_result"
    }
   ],
   "source": [
    "h1n1.head()"
   ]
  },
  {
   "cell_type": "code",
   "execution_count": 15,
   "metadata": {},
   "outputs": [],
   "source": [
    "h1n1.housing_status = h1n1.housing_status.fillna('Own')        "
   ]
  },
  {
   "cell_type": "code",
   "execution_count": 16,
   "metadata": {},
   "outputs": [
    {
     "data": {
      "text/plain": [
       "0"
      ]
     },
     "execution_count": 16,
     "metadata": {},
     "output_type": "execute_result"
    }
   ],
   "source": [
    "h1n1.housing_status.isna().sum()"
   ]
  },
  {
   "cell_type": "code",
   "execution_count": 17,
   "metadata": {},
   "outputs": [
    {
     "data": {
      "text/plain": [
       "Own     20778\n",
       "Rent     5929\n",
       "Name: housing_status, dtype: int64"
      ]
     },
     "execution_count": 17,
     "metadata": {},
     "output_type": "execute_result"
    }
   ],
   "source": [
    "h1n1.housing_status.value_counts()"
   ]
  },
  {
   "cell_type": "code",
   "execution_count": 18,
   "metadata": {},
   "outputs": [
    {
     "data": {
      "text/plain": [
       "Index(['age_bracket', 'qualification', 'race', 'sex', 'income_level',\n",
       "       'marital_status', 'housing_status', 'employment', 'census_msa'],\n",
       "      dtype='object')"
      ]
     },
     "execution_count": 18,
     "metadata": {},
     "output_type": "execute_result"
    }
   ],
   "source": [
    "h1n1.select_dtypes(include='object').columns"
   ]
  },
  {
   "cell_type": "code",
   "execution_count": 19,
   "metadata": {},
   "outputs": [],
   "source": [
    "h1n1.h1n1_worry= h1n1.h1n1_worry.fillna(h1n1.h1n1_worry.mean())\n",
    "h1n1.h1n1_awareness= h1n1.h1n1_awareness.fillna(h1n1.h1n1_awareness.mean())\n",
    "h1n1.antiviral_medication= h1n1.antiviral_medication.fillna(h1n1.antiviral_medication.mean())\n",
    "h1n1.contact_avoidance= h1n1.contact_avoidance.fillna(h1n1.contact_avoidance.mean())\n",
    "h1n1.dr_recc_h1n1_vacc = h1n1.dr_recc_h1n1_vacc .fillna(h1n1.dr_recc_h1n1_vacc .mean())\n",
    "h1n1.dr_recc_seasonal_vacc   = h1n1.dr_recc_seasonal_vacc   .fillna(h1n1.dr_recc_seasonal_vacc   .mean())\n",
    "h1n1.chronic_medic_condition = h1n1.chronic_medic_condition.fillna(h1n1.chronic_medic_condition           .mean())\n",
    "h1n1.dr_recc_h1n1_vacc = h1n1.dr_recc_h1n1_vacc .fillna(h1n1.dr_recc_h1n1_vacc .mean())\n",
    "h1n1.cont_child_undr_6_mnths = h1n1.cont_child_undr_6_mnths .fillna(h1n1.cont_child_undr_6_mnths .mean())\n",
    "h1n1.is_health_worker = h1n1.is_health_worker .fillna(h1n1.is_health_worker .mean())\n",
    "h1n1.is_seas_risky = h1n1.is_seas_risky .fillna(h1n1.is_seas_risky .mean())\n",
    "h1n1.is_seas_vacc_effective = h1n1.is_seas_vacc_effective .fillna(h1n1.is_seas_vacc_effective .mean())\n",
    "h1n1.sick_from_seas_vacc = h1n1.sick_from_seas_vacc .fillna(h1n1.sick_from_seas_vacc .mean())\n",
    "h1n1.no_of_adults = h1n1.no_of_adults .fillna(h1n1.no_of_adults .mean())\n",
    "h1n1.no_of_children = h1n1.no_of_children .fillna(h1n1.no_of_children .mean())\n",
    "h1n1.sick_from_h1n1_vacc= h1n1.sick_from_h1n1_vacc.fillna(h1n1.sick_from_h1n1_vacc.mean())\n",
    "h1n1.is_h1n1_vacc_effective= h1n1.is_h1n1_vacc_effective.fillna(h1n1.is_h1n1_vacc_effective.mean())\n",
    "h1n1.is_h1n1_risky= h1n1.is_h1n1_risky.fillna(h1n1.is_h1n1_risky.mean())\n",
    "h1n1.avoid_touch_face= h1n1.avoid_touch_face.fillna(h1n1.avoid_touch_face.mean())\n",
    "h1n1.avoid_large_gatherings= h1n1.avoid_large_gatherings.fillna(h1n1.avoid_large_gatherings.mean())\n",
    "h1n1.reduced_outside_home_cont= h1n1.reduced_outside_home_cont.fillna(h1n1.reduced_outside_home_cont.mean())\n",
    "h1n1.wash_hands_frequently= h1n1.wash_hands_frequently.fillna(h1n1.wash_hands_frequently.mean())\n",
    "h1n1.bought_face_mask= h1n1.bought_face_mask.fillna(h1n1.bought_face_mask.mean())"
   ]
  },
  {
   "cell_type": "code",
   "execution_count": 20,
   "metadata": {},
   "outputs": [
    {
     "data": {
      "text/plain": [
       "unique_id                        0\n",
       "h1n1_worry                       0\n",
       "h1n1_awareness                   0\n",
       "antiviral_medication             0\n",
       "contact_avoidance                0\n",
       "bought_face_mask                 0\n",
       "wash_hands_frequently            0\n",
       "avoid_large_gatherings           0\n",
       "reduced_outside_home_cont        0\n",
       "avoid_touch_face                 0\n",
       "dr_recc_h1n1_vacc                0\n",
       "dr_recc_seasonal_vacc            0\n",
       "chronic_medic_condition          0\n",
       "cont_child_undr_6_mnths          0\n",
       "is_health_worker                 0\n",
       "has_health_insur             12274\n",
       "is_h1n1_vacc_effective           0\n",
       "is_h1n1_risky                    0\n",
       "sick_from_h1n1_vacc              0\n",
       "is_seas_vacc_effective           0\n",
       "is_seas_risky                    0\n",
       "sick_from_seas_vacc              0\n",
       "age_bracket                      0\n",
       "qualification                 1407\n",
       "race                             0\n",
       "sex                              0\n",
       "income_level                  4423\n",
       "marital_status                1408\n",
       "housing_status                   0\n",
       "employment                    1463\n",
       "census_msa                       0\n",
       "no_of_adults                     0\n",
       "no_of_children                   0\n",
       "h1n1_vaccine                     0\n",
       "dtype: int64"
      ]
     },
     "execution_count": 20,
     "metadata": {},
     "output_type": "execute_result"
    }
   ],
   "source": [
    "h1n1.isnull().sum()"
   ]
  },
  {
   "cell_type": "code",
   "execution_count": 21,
   "metadata": {},
   "outputs": [],
   "source": [
    "h1n1.employment=h1n1.employment.fillna('Employed')\n",
    "h1n1.marital_status=h1n1.marital_status.fillna('Married')\n",
    "h1n1.qualification=h1n1.qualification.fillna('College Graduate')\n",
    "h1n1.income_level=h1n1.income_level.fillna('<= $75,000, Above Poverty')"
   ]
  },
  {
   "cell_type": "code",
   "execution_count": 22,
   "metadata": {},
   "outputs": [],
   "source": [
    "h1n1 = h1n1.drop(['has_health_insur'], axis =1)"
   ]
  },
  {
   "cell_type": "code",
   "execution_count": 23,
   "metadata": {},
   "outputs": [
    {
     "data": {
      "text/plain": [
       "unique_id                    0\n",
       "h1n1_worry                   0\n",
       "h1n1_awareness               0\n",
       "antiviral_medication         0\n",
       "contact_avoidance            0\n",
       "bought_face_mask             0\n",
       "wash_hands_frequently        0\n",
       "avoid_large_gatherings       0\n",
       "reduced_outside_home_cont    0\n",
       "avoid_touch_face             0\n",
       "dr_recc_h1n1_vacc            0\n",
       "dr_recc_seasonal_vacc        0\n",
       "chronic_medic_condition      0\n",
       "cont_child_undr_6_mnths      0\n",
       "is_health_worker             0\n",
       "is_h1n1_vacc_effective       0\n",
       "is_h1n1_risky                0\n",
       "sick_from_h1n1_vacc          0\n",
       "is_seas_vacc_effective       0\n",
       "is_seas_risky                0\n",
       "sick_from_seas_vacc          0\n",
       "age_bracket                  0\n",
       "qualification                0\n",
       "race                         0\n",
       "sex                          0\n",
       "income_level                 0\n",
       "marital_status               0\n",
       "housing_status               0\n",
       "employment                   0\n",
       "census_msa                   0\n",
       "no_of_adults                 0\n",
       "no_of_children               0\n",
       "h1n1_vaccine                 0\n",
       "dtype: int64"
      ]
     },
     "execution_count": 23,
     "metadata": {},
     "output_type": "execute_result"
    }
   ],
   "source": [
    "h1n1.isnull().sum()"
   ]
  },
  {
   "cell_type": "code",
   "execution_count": 24,
   "metadata": {},
   "outputs": [],
   "source": [
    "from sklearn.preprocessing import LabelEncoder\n",
    "le = LabelEncoder()\n",
    "h1n1[h1n1.select_dtypes(include=['object']).columns] = h1n1[h1n1.select_dtypes(include='object').columns].apply(le.fit_transform)"
   ]
  },
  {
   "cell_type": "code",
   "execution_count": 25,
   "metadata": {},
   "outputs": [
    {
     "name": "stdout",
     "output_type": "stream",
     "text": [
      "<class 'pandas.core.frame.DataFrame'>\n",
      "RangeIndex: 26707 entries, 0 to 26706\n",
      "Data columns (total 33 columns):\n",
      " #   Column                     Non-Null Count  Dtype  \n",
      "---  ------                     --------------  -----  \n",
      " 0   unique_id                  26707 non-null  int64  \n",
      " 1   h1n1_worry                 26707 non-null  float64\n",
      " 2   h1n1_awareness             26707 non-null  float64\n",
      " 3   antiviral_medication       26707 non-null  float64\n",
      " 4   contact_avoidance          26707 non-null  float64\n",
      " 5   bought_face_mask           26707 non-null  float64\n",
      " 6   wash_hands_frequently      26707 non-null  float64\n",
      " 7   avoid_large_gatherings     26707 non-null  float64\n",
      " 8   reduced_outside_home_cont  26707 non-null  float64\n",
      " 9   avoid_touch_face           26707 non-null  float64\n",
      " 10  dr_recc_h1n1_vacc          26707 non-null  float64\n",
      " 11  dr_recc_seasonal_vacc      26707 non-null  float64\n",
      " 12  chronic_medic_condition    26707 non-null  float64\n",
      " 13  cont_child_undr_6_mnths    26707 non-null  float64\n",
      " 14  is_health_worker           26707 non-null  float64\n",
      " 15  is_h1n1_vacc_effective     26707 non-null  float64\n",
      " 16  is_h1n1_risky              26707 non-null  float64\n",
      " 17  sick_from_h1n1_vacc        26707 non-null  float64\n",
      " 18  is_seas_vacc_effective     26707 non-null  float64\n",
      " 19  is_seas_risky              26707 non-null  float64\n",
      " 20  sick_from_seas_vacc        26707 non-null  float64\n",
      " 21  age_bracket                26707 non-null  int32  \n",
      " 22  qualification              26707 non-null  int32  \n",
      " 23  race                       26707 non-null  int32  \n",
      " 24  sex                        26707 non-null  int32  \n",
      " 25  income_level               26707 non-null  int32  \n",
      " 26  marital_status             26707 non-null  int32  \n",
      " 27  housing_status             26707 non-null  int32  \n",
      " 28  employment                 26707 non-null  int32  \n",
      " 29  census_msa                 26707 non-null  int32  \n",
      " 30  no_of_adults               26707 non-null  float64\n",
      " 31  no_of_children             26707 non-null  float64\n",
      " 32  h1n1_vaccine               26707 non-null  int64  \n",
      "dtypes: float64(22), int32(9), int64(2)\n",
      "memory usage: 5.8 MB\n"
     ]
    }
   ],
   "source": [
    "h1n1.info()"
   ]
  },
  {
   "cell_type": "code",
   "execution_count": 26,
   "metadata": {},
   "outputs": [],
   "source": [
    "from sklearn.model_selection import train_test_split\n",
    "h1n1_train, h1n1_test = train_test_split(h1n1, test_size = 0.2, random_state = 100)"
   ]
  },
  {
   "cell_type": "code",
   "execution_count": 27,
   "metadata": {},
   "outputs": [],
   "source": [
    "h1n1_train_x = h1n1_train.iloc[:,0:-1]\n",
    "h1n1_train_y = h1n1_train.iloc[:,-1]"
   ]
  },
  {
   "cell_type": "code",
   "execution_count": 28,
   "metadata": {},
   "outputs": [],
   "source": [
    "h1n1_test_x = h1n1_test.iloc[:,0:-1]\n",
    "h1n1_test_y = h1n1_test.iloc[:,-1]"
   ]
  },
  {
   "cell_type": "code",
   "execution_count": 29,
   "metadata": {},
   "outputs": [],
   "source": [
    "from sklearn.linear_model import LogisticRegression\n",
    "logreg_h1n1 = LogisticRegression()"
   ]
  },
  {
   "cell_type": "code",
   "execution_count": 30,
   "metadata": {},
   "outputs": [
    {
     "data": {
      "text/plain": [
       "LogisticRegression()"
      ]
     },
     "execution_count": 30,
     "metadata": {},
     "output_type": "execute_result"
    }
   ],
   "source": [
    "logreg_h1n1.fit(h1n1_train_x, h1n1_train_y)"
   ]
  },
  {
   "cell_type": "code",
   "execution_count": 31,
   "metadata": {},
   "outputs": [],
   "source": [
    "pred_test_h1n1 = logreg_h1n1.predict(h1n1_test_x)"
   ]
  },
  {
   "cell_type": "code",
   "execution_count": 32,
   "metadata": {},
   "outputs": [],
   "source": [
    "from sklearn.metrics import confusion_matrix\n",
    "a = confusion_matrix(pred_test_h1n1, h1n1_test_y)"
   ]
  },
  {
   "cell_type": "code",
   "execution_count": 33,
   "metadata": {},
   "outputs": [
    {
     "data": {
      "text/plain": [
       "0    16814\n",
       "1     4551\n",
       "Name: h1n1_vaccine, dtype: int64"
      ]
     },
     "execution_count": 33,
     "metadata": {},
     "output_type": "execute_result"
    }
   ],
   "source": [
    "h1n1_train.h1n1_vaccine.value_counts()"
   ]
  },
  {
   "cell_type": "code",
   "execution_count": 34,
   "metadata": {},
   "outputs": [
    {
     "data": {
      "text/plain": [
       "array([[3994,  743],\n",
       "       [ 225,  380]], dtype=int64)"
      ]
     },
     "execution_count": 34,
     "metadata": {},
     "output_type": "execute_result"
    }
   ],
   "source": [
    "a"
   ]
  },
  {
   "cell_type": "code",
   "execution_count": 35,
   "metadata": {},
   "outputs": [
    {
     "data": {
      "text/plain": [
       "array([4219, 1123], dtype=int64)"
      ]
     },
     "execution_count": 35,
     "metadata": {},
     "output_type": "execute_result"
    }
   ],
   "source": [
    "sum(a)"
   ]
  },
  {
   "cell_type": "code",
   "execution_count": 36,
   "metadata": {},
   "outputs": [
    {
     "data": {
      "text/plain": [
       "81.87944590041182"
      ]
     },
     "execution_count": 36,
     "metadata": {},
     "output_type": "execute_result"
    }
   ],
   "source": [
    "Acc = a.diagonal().sum() * 100/ a.sum()\n",
    "Acc"
   ]
  },
  {
   "cell_type": "code",
   "execution_count": 37,
   "metadata": {},
   "outputs": [
    {
     "data": {
      "text/plain": [
       "5.33301730267836"
      ]
     },
     "execution_count": 37,
     "metadata": {},
     "output_type": "execute_result"
    }
   ],
   "source": [
    "fpr =  a[1][0]/(a[1][0]+a[0][0]) * 100\n",
    "fpr"
   ]
  },
  {
   "cell_type": "code",
   "execution_count": 38,
   "metadata": {},
   "outputs": [
    {
     "data": {
      "text/plain": [
       "33.83793410507569"
      ]
     },
     "execution_count": 38,
     "metadata": {},
     "output_type": "execute_result"
    }
   ],
   "source": [
    "tpr = a[1][1]/(a[1][1]+a[0][1]) * 100\n",
    "tpr"
   ]
  },
  {
   "cell_type": "code",
   "execution_count": 39,
   "metadata": {},
   "outputs": [
    {
     "data": {
      "text/plain": [
       "62.8099173553719"
      ]
     },
     "execution_count": 39,
     "metadata": {},
     "output_type": "execute_result"
    }
   ],
   "source": [
    "pre = a[1][1]/sum(a[1]) * 100\n",
    "pre"
   ]
  },
  {
   "cell_type": "code",
   "execution_count": 40,
   "metadata": {},
   "outputs": [],
   "source": [
    "# OverSampling"
   ]
  },
  {
   "cell_type": "code",
   "execution_count": 41,
   "metadata": {},
   "outputs": [],
   "source": [
    "os_h1n1 = h1n1_train[h1n1_train.h1n1_vaccine == 1]"
   ]
  },
  {
   "cell_type": "code",
   "execution_count": 42,
   "metadata": {},
   "outputs": [
    {
     "data": {
      "text/plain": [
       "0    16814\n",
       "1     4551\n",
       "Name: h1n1_vaccine, dtype: int64"
      ]
     },
     "execution_count": 42,
     "metadata": {},
     "output_type": "execute_result"
    }
   ],
   "source": [
    "h1n1_train.h1n1_vaccine.value_counts()"
   ]
  },
  {
   "cell_type": "code",
   "execution_count": null,
   "metadata": {},
   "outputs": [],
   "source": []
  },
  {
   "cell_type": "code",
   "execution_count": 43,
   "metadata": {},
   "outputs": [],
   "source": [
    "h1n1_train1 = pd.concat([h1n1_train, os_h1n1,os_h1n1])"
   ]
  },
  {
   "cell_type": "code",
   "execution_count": 44,
   "metadata": {},
   "outputs": [
    {
     "data": {
      "text/plain": [
       "0    16814\n",
       "1    13653\n",
       "Name: h1n1_vaccine, dtype: int64"
      ]
     },
     "execution_count": 44,
     "metadata": {},
     "output_type": "execute_result"
    }
   ],
   "source": [
    "h1n1_train1.h1n1_vaccine.value_counts()"
   ]
  },
  {
   "cell_type": "code",
   "execution_count": null,
   "metadata": {},
   "outputs": [],
   "source": []
  },
  {
   "cell_type": "code",
   "execution_count": 45,
   "metadata": {},
   "outputs": [],
   "source": [
    "h1n1_train_x = h1n1_train1.iloc[:,0:-1]\n",
    "h1n1_train_y = h1n1_train1.iloc[:,-1]"
   ]
  },
  {
   "cell_type": "code",
   "execution_count": 46,
   "metadata": {},
   "outputs": [],
   "source": [
    "h1n1_test_x = h1n1_test.iloc[:,0:-1]\n",
    "h1n1_test_y = h1n1_test.iloc[:,-1]"
   ]
  },
  {
   "cell_type": "code",
   "execution_count": 47,
   "metadata": {},
   "outputs": [],
   "source": [
    "from sklearn.linear_model import LogisticRegression\n",
    "logreg_h1n1 = LogisticRegression()"
   ]
  },
  {
   "cell_type": "code",
   "execution_count": 48,
   "metadata": {},
   "outputs": [
    {
     "name": "stderr",
     "output_type": "stream",
     "text": [
      "C:\\Users\\shubh\\anaconda3\\lib\\site-packages\\sklearn\\linear_model\\_logistic.py:762: ConvergenceWarning: lbfgs failed to converge (status=1):\n",
      "STOP: TOTAL NO. of ITERATIONS REACHED LIMIT.\n",
      "\n",
      "Increase the number of iterations (max_iter) or scale the data as shown in:\n",
      "    https://scikit-learn.org/stable/modules/preprocessing.html\n",
      "Please also refer to the documentation for alternative solver options:\n",
      "    https://scikit-learn.org/stable/modules/linear_model.html#logistic-regression\n",
      "  n_iter_i = _check_optimize_result(\n"
     ]
    },
    {
     "data": {
      "text/plain": [
       "LogisticRegression()"
      ]
     },
     "execution_count": 48,
     "metadata": {},
     "output_type": "execute_result"
    }
   ],
   "source": [
    "logreg_h1n1.fit(h1n1_train_x, h1n1_train_y)"
   ]
  },
  {
   "cell_type": "code",
   "execution_count": 49,
   "metadata": {},
   "outputs": [],
   "source": [
    "pred_test_h1n1_new = logreg_h1n1.predict(h1n1_test_x)"
   ]
  },
  {
   "cell_type": "code",
   "execution_count": 50,
   "metadata": {},
   "outputs": [],
   "source": [
    "from sklearn.metrics import confusion_matrix\n",
    "ab = confusion_matrix(pred_test_h1n1_new, h1n1_test_y)"
   ]
  },
  {
   "cell_type": "code",
   "execution_count": 51,
   "metadata": {},
   "outputs": [
    {
     "data": {
      "text/plain": [
       "array([[3269,  374],\n",
       "       [ 950,  749]], dtype=int64)"
      ]
     },
     "execution_count": 51,
     "metadata": {},
     "output_type": "execute_result"
    }
   ],
   "source": [
    "ab"
   ]
  },
  {
   "cell_type": "code",
   "execution_count": 52,
   "metadata": {},
   "outputs": [
    {
     "data": {
      "text/plain": [
       "75.21527517783602"
      ]
     },
     "execution_count": 52,
     "metadata": {},
     "output_type": "execute_result"
    }
   ],
   "source": [
    "Acc = ab.diagonal().sum() * 100/ ab.sum()\n",
    "Acc"
   ]
  },
  {
   "cell_type": "code",
   "execution_count": 53,
   "metadata": {},
   "outputs": [
    {
     "data": {
      "text/plain": [
       "19.215210355987054"
      ]
     },
     "execution_count": 53,
     "metadata": {},
     "output_type": "execute_result"
    }
   ],
   "source": [
    "fpr =  ab[1][0]/(ab[1][0]+a[0][0]) * 100\n",
    "fpr"
   ]
  },
  {
   "cell_type": "code",
   "execution_count": 54,
   "metadata": {},
   "outputs": [
    {
     "data": {
      "text/plain": [
       "99.3368700265252"
      ]
     },
     "execution_count": 54,
     "metadata": {},
     "output_type": "execute_result"
    }
   ],
   "source": [
    "tpr = ab[1][1]/(a[1][1]+ab[0][1]) * 100\n",
    "tpr"
   ]
  },
  {
   "cell_type": "code",
   "execution_count": 55,
   "metadata": {},
   "outputs": [
    {
     "data": {
      "text/plain": [
       "44.084755738669806"
      ]
     },
     "execution_count": 55,
     "metadata": {},
     "output_type": "execute_result"
    }
   ],
   "source": [
    "pre = ab[1][1]/sum(ab[1]) * 100\n",
    "pre"
   ]
  },
  {
   "cell_type": "code",
   "execution_count": 56,
   "metadata": {},
   "outputs": [
    {
     "data": {
      "text/plain": [
       "0.5308291991495394"
      ]
     },
     "execution_count": 56,
     "metadata": {},
     "output_type": "execute_result"
    }
   ],
   "source": [
    "from sklearn.metrics import f1_score\n",
    "f1_score(h1n1_test_y, pred_test_h1n1_new) #actual and then predicted"
   ]
  },
  {
   "cell_type": "code",
   "execution_count": 57,
   "metadata": {},
   "outputs": [],
   "source": [
    "from sklearn.tree import DecisionTreeClassifier\n",
    "dt = DecisionTreeClassifier()\n",
    "dt.fit(h1n1_train_x,h1n1_train_y)\n",
    "pred_dt = dt.predict(h1n1_test_x)\n",
    "tab_dt = confusion_matrix(pred_dt,h1n1_test_y)"
   ]
  },
  {
   "cell_type": "code",
   "execution_count": 58,
   "metadata": {},
   "outputs": [
    {
     "data": {
      "text/plain": [
       "array([[3573,  647],\n",
       "       [ 646,  476]], dtype=int64)"
      ]
     },
     "execution_count": 58,
     "metadata": {},
     "output_type": "execute_result"
    }
   ],
   "source": [
    "tab_dt"
   ]
  },
  {
   "cell_type": "code",
   "execution_count": 59,
   "metadata": {},
   "outputs": [],
   "source": [
    "from sklearn.tree import DecisionTreeClassifier\n",
    "dtree = DecisionTreeClassifier()"
   ]
  },
  {
   "cell_type": "code",
   "execution_count": 71,
   "metadata": {},
   "outputs": [
    {
     "data": {
      "application/javascript": [
       "\n",
       "        if (window._pyforest_update_imports_cell) { window._pyforest_update_imports_cell('from sklearn.model_selection import cross_val_score'); }\n",
       "    "
      ],
      "text/plain": [
       "<IPython.core.display.Javascript object>"
      ]
     },
     "metadata": {},
     "output_type": "display_data"
    }
   ],
   "source": [
    "score_dtree = cross_val_score(dtree, h1n1_train_x, h1n1_train_y, cv= 10,scoring='f1')\n",
    "\n",
    "#roc_auc (AUROC under the curve)\n",
    "#'recall' - tpr\n",
    "# precision\n",
    "# f1\n",
    "# if you do not use scoring its basically on Accuracy (default)"
   ]
  },
  {
   "cell_type": "code",
   "execution_count": 70,
   "metadata": {},
   "outputs": [
    {
     "data": {
      "text/plain": [
       "array([0.91091091, 0.90788161, 0.89714098, 0.90848586, 0.90703851,\n",
       "       0.9076412 , 0.90105541, 0.90517241, 0.90727817, 0.90457256])"
      ]
     },
     "execution_count": 70,
     "metadata": {},
     "output_type": "execute_result"
    }
   ],
   "source": [
    "score_dtree"
   ]
  },
  {
   "cell_type": "code",
   "execution_count": null,
   "metadata": {},
   "outputs": [],
   "source": []
  }
 ],
 "metadata": {
  "kernelspec": {
   "display_name": "Python 3",
   "language": "python",
   "name": "python3"
  },
  "language_info": {
   "codemirror_mode": {
    "name": "ipython",
    "version": 3
   },
   "file_extension": ".py",
   "mimetype": "text/x-python",
   "name": "python",
   "nbconvert_exporter": "python",
   "pygments_lexer": "ipython3",
   "version": "3.8.5"
  }
 },
 "nbformat": 4,
 "nbformat_minor": 4
}
